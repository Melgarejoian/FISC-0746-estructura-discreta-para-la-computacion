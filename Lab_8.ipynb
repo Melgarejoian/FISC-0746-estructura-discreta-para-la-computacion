{
  "nbformat": 4,
  "nbformat_minor": 0,
  "metadata": {
    "colab": {
      "name": "Lab 8",
      "version": "0.3.2",
      "provenance": [],
      "collapsed_sections": [],
      "include_colab_link": true
    },
    "kernelspec": {
      "name": "python3",
      "display_name": "Python 3"
    }
  },
  "cells": [
    {
      "cell_type": "markdown",
      "metadata": {
        "id": "view-in-github",
        "colab_type": "text"
      },
      "source": [
        "<a href=\"https://colab.research.google.com/github/Melgarejoian/FISC-0746-estructura-discreta-para-la-computacion/blob/master/Lab_8.ipynb\" target=\"_parent\"><img src=\"https://colab.research.google.com/assets/colab-badge.svg\" alt=\"Open In Colab\"/></a>"
      ]
    },
    {
      "cell_type": "markdown",
      "metadata": {
        "id": "GxjW6JI5gTl4",
        "colab_type": "text"
      },
      "source": [
        "# ***Diccionario***"
      ]
    },
    {
      "cell_type": "code",
      "metadata": {
        "id": "txpZfWCIgRj_",
        "colab_type": "code",
        "colab": {}
      },
      "source": [
        "code_paises = {'Panama':'PA','Costa Rica':'CR','Colombia':'Col','Estados Unidos':'EU'}"
      ],
      "execution_count": 0,
      "outputs": []
    },
    {
      "cell_type": "code",
      "metadata": {
        "id": "faDXHN63g0-z",
        "colab_type": "code",
        "outputId": "2d8159e9-7a30-47a0-f184-0a0329fcf917",
        "colab": {
          "base_uri": "https://localhost:8080/",
          "height": 34
        }
      },
      "source": [
        "code_paises\n"
      ],
      "execution_count": 0,
      "outputs": [
        {
          "output_type": "execute_result",
          "data": {
            "text/plain": [
              "{'Colombia': 'Col', 'Costa Rica': 'CR', 'Estados Unidos': 'EU', 'Panama': 'PA'}"
            ]
          },
          "metadata": {
            "tags": []
          },
          "execution_count": 2
        }
      ]
    },
    {
      "cell_type": "code",
      "metadata": {
        "id": "ljbY2Revg6iV",
        "colab_type": "code",
        "outputId": "35a64796-cd0b-4a0c-bc8a-2d636152e6eb",
        "colab": {
          "base_uri": "https://localhost:8080/",
          "height": 34
        }
      },
      "source": [
        "len(code_paises)"
      ],
      "execution_count": 0,
      "outputs": [
        {
          "output_type": "execute_result",
          "data": {
            "text/plain": [
              "4"
            ]
          },
          "metadata": {
            "tags": []
          },
          "execution_count": 3
        }
      ]
    },
    {
      "cell_type": "markdown",
      "metadata": {
        "id": "zR7tscpYiCkG",
        "colab_type": "text"
      },
      "source": [
        "Limpieza de Diccionario \"variable.clear()\""
      ]
    },
    {
      "cell_type": "code",
      "metadata": {
        "id": "SKZl2aQZh9Gg",
        "colab_type": "code",
        "colab": {}
      },
      "source": [
        "code_paises.clear()"
      ],
      "execution_count": 0,
      "outputs": []
    },
    {
      "cell_type": "code",
      "metadata": {
        "id": "qbgxjfaog9CF",
        "colab_type": "code",
        "outputId": "38851f7e-f7ad-4089-c234-94ba37670781",
        "colab": {
          "base_uri": "https://localhost:8080/",
          "height": 34
        }
      },
      "source": [
        "if code_paises:\n",
        "  print('El diccionario tiene elementos')\n",
        "else:\n",
        "  print('El diccionario esta vacio')"
      ],
      "execution_count": 0,
      "outputs": [
        {
          "output_type": "stream",
          "text": [
            "El diccionario esta vacio\n"
          ],
          "name": "stdout"
        }
      ]
    },
    {
      "cell_type": "code",
      "metadata": {
        "id": "OdmCIgypivCw",
        "colab_type": "code",
        "colab": {}
      },
      "source": [
        "dias_por_mes={'Enero':31,'Febrero':28,'Marzo':31}"
      ],
      "execution_count": 0,
      "outputs": []
    },
    {
      "cell_type": "code",
      "metadata": {
        "id": "2SWXmDo9jQDF",
        "colab_type": "code",
        "outputId": "1aa33c83-41a2-42a1-8493-71587f896158",
        "colab": {
          "base_uri": "https://localhost:8080/",
          "height": 34
        }
      },
      "source": [
        "dias_por_mes\n"
      ],
      "execution_count": 0,
      "outputs": [
        {
          "output_type": "execute_result",
          "data": {
            "text/plain": [
              "{'Enero': 31, 'Febrero': 28, 'Marzo': 31}"
            ]
          },
          "metadata": {
            "tags": []
          },
          "execution_count": 13
        }
      ]
    },
    {
      "cell_type": "code",
      "metadata": {
        "id": "6zw9qVAdjTFV",
        "colab_type": "code",
        "outputId": "ee1d16af-d0af-4a5b-ae0a-0d7f30318225",
        "colab": {
          "base_uri": "https://localhost:8080/",
          "height": 68
        }
      },
      "source": [
        "for m,d in dias_por_mes.items():\n",
        "  print(f'{m} tienes {d} dias')"
      ],
      "execution_count": 0,
      "outputs": [
        {
          "output_type": "stream",
          "text": [
            "Enero tienes 31 dias\n",
            "Febrero tienes 28 dias\n",
            "Marzo tienes 31 dias\n"
          ],
          "name": "stdout"
        }
      ]
    },
    {
      "cell_type": "markdown",
      "metadata": {
        "id": "t8XDcS7Fkabg",
        "colab_type": "text"
      },
      "source": [
        "# **Tarea 01:**"
      ]
    },
    {
      "cell_type": "code",
      "metadata": {
        "id": "W8n6oF86k4JA",
        "colab_type": "code",
        "outputId": "62d99108-d3b1-4996-c757-0a61146fd545",
        "colab": {
          "base_uri": "https://localhost:8080/",
          "height": 34
        }
      },
      "source": [
        "code_paises.items()"
      ],
      "execution_count": 0,
      "outputs": [
        {
          "output_type": "execute_result",
          "data": {
            "text/plain": [
              "dict_items([('Panama', 'PA'), ('Costa Rica', 'CR'), ('Colombia', 'Col'), ('Estados Unidos', 'EU')])"
            ]
          },
          "metadata": {
            "tags": []
          },
          "execution_count": 24
        }
      ]
    },
    {
      "cell_type": "code",
      "metadata": {
        "id": "OkCbjzSQjwfF",
        "colab_type": "code",
        "outputId": "ceef55f8-2aff-4ccd-9e72-fcaebdcb96e8",
        "colab": {
          "base_uri": "https://localhost:8080/",
          "height": 85
        }
      },
      "source": [
        "for p,s in code_paises.items():\n",
        "  print(f'{p} Tiene  {s} Como codigo')"
      ],
      "execution_count": 0,
      "outputs": [
        {
          "output_type": "stream",
          "text": [
            "Panama Tiene  PA Como codigo\n",
            "Costa Rica Tiene  CR Como codigo\n",
            "Colombia Tiene  Col Como codigo\n",
            "Estados Unidos Tiene  EU Como codigo\n"
          ],
          "name": "stdout"
        }
      ]
    },
    {
      "cell_type": "code",
      "metadata": {
        "id": "AFTD5hZekr-0",
        "colab_type": "code",
        "colab": {}
      },
      "source": [
        "numeros_romanos = {'I':1,'II':2,'III':3,'IV':4,'V':5,'X':100}"
      ],
      "execution_count": 0,
      "outputs": []
    },
    {
      "cell_type": "code",
      "metadata": {
        "id": "BzwZb147l9UF",
        "colab_type": "code",
        "outputId": "e6b7b789-b43a-429d-9343-1eb7a83689dc",
        "colab": {
          "base_uri": "https://localhost:8080/",
          "height": 34
        }
      },
      "source": [
        "numeros_romanos"
      ],
      "execution_count": 0,
      "outputs": [
        {
          "output_type": "execute_result",
          "data": {
            "text/plain": [
              "{'I': 1, 'II': 2, 'III': 3, 'IV': 4, 'V': 5}"
            ]
          },
          "metadata": {
            "tags": []
          },
          "execution_count": 27
        }
      ]
    },
    {
      "cell_type": "code",
      "metadata": {
        "id": "jgHaEkitl_rG",
        "colab_type": "code",
        "outputId": "0f379031-25f8-4f6f-ff4e-22cb069f4eb8",
        "colab": {
          "base_uri": "https://localhost:8080/",
          "height": 34
        }
      },
      "source": [
        "numeros_romanos['V']"
      ],
      "execution_count": 0,
      "outputs": [
        {
          "output_type": "execute_result",
          "data": {
            "text/plain": [
              "5"
            ]
          },
          "metadata": {
            "tags": []
          },
          "execution_count": 30
        }
      ]
    },
    {
      "cell_type": "code",
      "metadata": {
        "id": "ar9CSn_KmFxF",
        "colab_type": "code",
        "colab": {}
      },
      "source": [
        "numeros_romanos['X']=10"
      ],
      "execution_count": 0,
      "outputs": []
    },
    {
      "cell_type": "code",
      "metadata": {
        "id": "SXygdLEymXnl",
        "colab_type": "code",
        "outputId": "4f732a16-ed6b-4c04-ceda-70698e3f4384",
        "colab": {
          "base_uri": "https://localhost:8080/",
          "height": 34
        }
      },
      "source": [
        "numeros_romanos"
      ],
      "execution_count": 0,
      "outputs": [
        {
          "output_type": "execute_result",
          "data": {
            "text/plain": [
              "{'I': 1, 'II': 2, 'III': 3, 'IV': 4, 'V': 5, 'X': 10}"
            ]
          },
          "metadata": {
            "tags": []
          },
          "execution_count": 34
        }
      ]
    },
    {
      "cell_type": "code",
      "metadata": {
        "id": "Diy328wmmZD2",
        "colab_type": "code",
        "outputId": "5648549b-87f5-4973-c54d-3501c4b9acb6",
        "colab": {
          "base_uri": "https://localhost:8080/",
          "height": 34
        }
      },
      "source": [
        "#Agregar una llave/valor\n",
        "numeros_romanos['L']=50\n",
        "numeros_romanos"
      ],
      "execution_count": 0,
      "outputs": [
        {
          "output_type": "execute_result",
          "data": {
            "text/plain": [
              "{'I': 1, 'II': 2, 'III': 3, 'IV': 4, 'L': 50, 'V': 5, 'X': 10}"
            ]
          },
          "metadata": {
            "tags": []
          },
          "execution_count": 57
        }
      ]
    },
    {
      "cell_type": "code",
      "metadata": {
        "id": "w9YsraFhnFWH",
        "colab_type": "code",
        "outputId": "477cceee-ffff-4c87-fc3f-ed9c2de8820b",
        "colab": {
          "base_uri": "https://localhost:8080/",
          "height": 34
        }
      },
      "source": [
        "#Eliminar un dato del diccionario\n",
        "numeros_romanos.pop('L')\n"
      ],
      "execution_count": 0,
      "outputs": [
        {
          "output_type": "execute_result",
          "data": {
            "text/plain": [
              "50"
            ]
          },
          "metadata": {
            "tags": []
          },
          "execution_count": 51
        }
      ]
    },
    {
      "cell_type": "code",
      "metadata": {
        "id": "F6_cj7Snn9Ol",
        "colab_type": "code",
        "colab": {}
      },
      "source": [
        "#Otra forma de eliminar un dato del diccionario\n",
        "del numeros_romanos['III']"
      ],
      "execution_count": 0,
      "outputs": []
    },
    {
      "cell_type": "code",
      "metadata": {
        "id": "vVlee8RfoIhm",
        "colab_type": "code",
        "outputId": "8f388cd4-c9d9-458a-80b8-6f17460022a2",
        "colab": {
          "base_uri": "https://localhost:8080/",
          "height": 34
        }
      },
      "source": [
        "numeros_romanos\n"
      ],
      "execution_count": 0,
      "outputs": [
        {
          "output_type": "execute_result",
          "data": {
            "text/plain": [
              "{'I': 1, 'II': 2, 'IV': 4, 'L': 50, 'V': 5, 'X': 10}"
            ]
          },
          "metadata": {
            "tags": []
          },
          "execution_count": 59
        }
      ]
    },
    {
      "cell_type": "markdown",
      "metadata": {
        "id": "TjxolKJMph9R",
        "colab_type": "text"
      },
      "source": [
        "Buscar un Elemento en el diccionario"
      ]
    },
    {
      "cell_type": "code",
      "metadata": {
        "id": "2sAEjkZEo8HW",
        "colab_type": "code",
        "outputId": "efae48df-a5fa-4cde-f67e-58ac273f3fbe",
        "colab": {
          "base_uri": "https://localhost:8080/",
          "height": 163
        }
      },
      "source": [
        "numeros_romanos['III']"
      ],
      "execution_count": 0,
      "outputs": [
        {
          "output_type": "error",
          "ename": "KeyError",
          "evalue": "ignored",
          "traceback": [
            "\u001b[0;31m---------------------------------------------------------------------------\u001b[0m",
            "\u001b[0;31mKeyError\u001b[0m                                  Traceback (most recent call last)",
            "\u001b[0;32m<ipython-input-63-94951f42b5b0>\u001b[0m in \u001b[0;36m<module>\u001b[0;34m()\u001b[0m\n\u001b[0;32m----> 1\u001b[0;31m \u001b[0mnumeros_romanos\u001b[0m\u001b[0;34m[\u001b[0m\u001b[0;34m'III'\u001b[0m\u001b[0;34m]\u001b[0m\u001b[0;34m\u001b[0m\u001b[0;34m\u001b[0m\u001b[0m\n\u001b[0m",
            "\u001b[0;31mKeyError\u001b[0m: 'III'"
          ]
        }
      ]
    },
    {
      "cell_type": "code",
      "metadata": {
        "id": "xRidgdRDptul",
        "colab_type": "code",
        "colab": {}
      },
      "source": [
        "numeros_romanos.get('III')"
      ],
      "execution_count": 0,
      "outputs": []
    },
    {
      "cell_type": "code",
      "metadata": {
        "id": "G8QMH4I-pxhX",
        "colab_type": "code",
        "colab": {}
      },
      "source": [
        ""
      ],
      "execution_count": 0,
      "outputs": []
    },
    {
      "cell_type": "code",
      "metadata": {
        "id": "c371j3Y-qB-R",
        "colab_type": "code",
        "outputId": "8f0c68f6-df2e-42f8-bab8-9a18985700bd",
        "colab": {
          "base_uri": "https://localhost:8080/",
          "height": 34
        }
      },
      "source": [
        "numeros_romanos.get('III','Este elemento no se encuentra dentro del diccionario')"
      ],
      "execution_count": 0,
      "outputs": [
        {
          "output_type": "execute_result",
          "data": {
            "text/plain": [
              "'Este elemento no se encuentra dentro del diccionario'"
            ]
          },
          "metadata": {
            "tags": []
          },
          "execution_count": 67
        }
      ]
    },
    {
      "cell_type": "code",
      "metadata": {
        "id": "9U5aJ1ZlqQB1",
        "colab_type": "code",
        "outputId": "d5e8ef82-0b01-42c4-eff8-92d7a664800f",
        "colab": {
          "base_uri": "https://localhost:8080/",
          "height": 34
        }
      },
      "source": [
        "#Probar si llave existe dentro del diccionario\n",
        "'V' in numeros_romanos"
      ],
      "execution_count": 0,
      "outputs": [
        {
          "output_type": "execute_result",
          "data": {
            "text/plain": [
              "True"
            ]
          },
          "metadata": {
            "tags": []
          },
          "execution_count": 68
        }
      ]
    },
    {
      "cell_type": "code",
      "metadata": {
        "id": "4NfnapeEq3LG",
        "colab_type": "code",
        "outputId": "1c0d6b54-514e-43ff-8224-03c90c42cb79",
        "colab": {
          "base_uri": "https://localhost:8080/",
          "height": 34
        }
      },
      "source": [
        "'V' not in numeros_romanos"
      ],
      "execution_count": 0,
      "outputs": [
        {
          "output_type": "execute_result",
          "data": {
            "text/plain": [
              "False"
            ]
          },
          "metadata": {
            "tags": []
          },
          "execution_count": 69
        }
      ]
    },
    {
      "cell_type": "markdown",
      "metadata": {
        "id": "dq9k6_LIrffM",
        "colab_type": "text"
      },
      "source": [
        "#Tarea 02:\n",
        "\n",
        "* Crea un diccionario \"Numero Binarios\" con 5 llaves \"1\",\"2\",\"4\",\"5\",\"10\"\n",
        "\n",
        "* Insertar un llave \"3\" con su valor\n",
        "* Remover 5 y obtenr su valor\n",
        "* Verificar si la llave \"9 exixte\""
      ]
    },
    {
      "cell_type": "code",
      "metadata": {
        "id": "2K_Z_w0uq9z2",
        "colab_type": "code",
        "colab": {}
      },
      "source": [
        "num_binarios={1:'0001',2:'0010',4:'0100',5:'0101',10:'1010'}"
      ],
      "execution_count": 0,
      "outputs": []
    },
    {
      "cell_type": "code",
      "metadata": {
        "id": "EMeAUjVgtgYH",
        "colab_type": "code",
        "outputId": "da0403fa-e927-4745-d77e-671e538d1c51",
        "colab": {
          "base_uri": "https://localhost:8080/",
          "height": 34
        }
      },
      "source": [
        "num_binarios"
      ],
      "execution_count": 0,
      "outputs": [
        {
          "output_type": "execute_result",
          "data": {
            "text/plain": [
              "{1: '0001', 2: '0010', 4: '0100', 5: '0101', 10: '1010'}"
            ]
          },
          "metadata": {
            "tags": []
          },
          "execution_count": 74
        }
      ]
    },
    {
      "cell_type": "code",
      "metadata": {
        "id": "aTycqcITuAfG",
        "colab_type": "code",
        "colab": {}
      },
      "source": [
        "num_binarios[3]='0011'"
      ],
      "execution_count": 0,
      "outputs": []
    },
    {
      "cell_type": "code",
      "metadata": {
        "id": "J4FLilkjuH52",
        "colab_type": "code",
        "outputId": "63cab3c0-8868-40cf-a7fc-cfae6569e806",
        "colab": {
          "base_uri": "https://localhost:8080/",
          "height": 34
        }
      },
      "source": [
        "num_binarios[5]\n",
        "num_binarios.get(5)"
      ],
      "execution_count": 0,
      "outputs": [
        {
          "output_type": "execute_result",
          "data": {
            "text/plain": [
              "'0101'"
            ]
          },
          "metadata": {
            "tags": []
          },
          "execution_count": 80
        }
      ]
    },
    {
      "cell_type": "code",
      "metadata": {
        "id": "oxvVkYu0uP_l",
        "colab_type": "code",
        "outputId": "50a675c2-a671-46d7-94fb-c373553350d4",
        "colab": {
          "base_uri": "https://localhost:8080/",
          "height": 34
        }
      },
      "source": [
        "9 in num_binarios"
      ],
      "execution_count": 0,
      "outputs": [
        {
          "output_type": "execute_result",
          "data": {
            "text/plain": [
              "False"
            ]
          },
          "metadata": {
            "tags": []
          },
          "execution_count": 81
        }
      ]
    },
    {
      "cell_type": "markdown",
      "metadata": {
        "id": "NqylWleou-5c",
        "colab_type": "text"
      },
      "source": [
        "#Tarea 03:\n",
        "\n",
        "Promedio de Susana es: 93.23\n",
        "\n",
        "Promedio de Eduardo es: 85.67\n",
        "\n",
        "Promedio de Ariel es : 87.33\n",
        "\n",
        "Promedio de Pedro es : 93.33\n",
        "\n",
        "Promedio del salon  es : 89.67"
      ]
    },
    {
      "cell_type": "code",
      "metadata": {
        "id": "BgYAA6Yfw-uQ",
        "colab_type": "code",
        "colab": {}
      },
      "source": [
        ""
      ],
      "execution_count": 0,
      "outputs": []
    },
    {
      "cell_type": "code",
      "metadata": {
        "id": "lDYqh9KfubcW",
        "colab_type": "code",
        "outputId": "f39c0d6e-a409-4ecc-9981-e8efef4df1f4",
        "colab": {
          "base_uri": "https://localhost:8080/",
          "height": 102
        }
      },
      "source": [
        "libro_notas = {\n",
        "    'Susansa':[92,85,100],\n",
        "    'Eduardo':[83,95,79],\n",
        "    'Ariel':[91,89,82],\n",
        "    'Pedro':[97,91,92]\n",
        "}\n",
        "todas_las_notales = 1\n",
        "contandor_de_notas = 1\n",
        "total = 0\n",
        "\n",
        "for name,note in libro_notas.items():\n",
        "  total=sum(note)\n",
        "  print(f'El promedio de {name} es de: {total/ len(note):.2f}')\n",
        "\n",
        "\n",
        "\n",
        "  \n",
        "  \n",
        "print(f'El Promedio de salón es :{(sum(note))/(len(note)):.2f}')"
      ],
      "execution_count": 4,
      "outputs": [
        {
          "output_type": "stream",
          "text": [
            "El promedio de Susansa es de: 92.33\n",
            "El promedio de Eduardo es de: 85.67\n",
            "El promedio de Ariel es de: 87.33\n",
            "El promedio de Pedro es de: 93.33\n",
            "El Promedio de salón es :93.33\n"
          ],
          "name": "stdout"
        }
      ]
    },
    {
      "cell_type": "code",
      "metadata": {
        "id": "Dn_YKnLQwE9h",
        "colab_type": "code",
        "colab": {}
      },
      "source": [
        ""
      ],
      "execution_count": 0,
      "outputs": []
    }
  ]
}