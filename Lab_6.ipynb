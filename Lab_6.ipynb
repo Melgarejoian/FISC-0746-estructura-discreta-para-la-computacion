{
  "nbformat": 4,
  "nbformat_minor": 0,
  "metadata": {
    "colab": {
      "name": "Lab 6",
      "version": "0.3.2",
      "provenance": [],
      "include_colab_link": true
    },
    "kernelspec": {
      "name": "python3",
      "display_name": "Python 3"
    }
  },
  "cells": [
    {
      "cell_type": "markdown",
      "metadata": {
        "id": "view-in-github",
        "colab_type": "text"
      },
      "source": [
        "<a href=\"https://colab.research.google.com/github/Melgarejoian/FISC-0746-estructura-discreta-para-la-computacion/blob/master/Lab_6.ipynb\" target=\"_parent\"><img src=\"https://colab.research.google.com/assets/colab-badge.svg\" alt=\"Open In Colab\"/></a>"
      ]
    },
    {
      "cell_type": "markdown",
      "metadata": {
        "colab_type": "text",
        "id": "5StGK3q6bAk0"
      },
      "source": [
        "# Tarea 01\n",
        "**Funncion Multiplicar**\n",
        "Crea un funcion para poder multiplicar 2 numeros \n",
        "\n",
        "\n"
      ]
    },
    {
      "cell_type": "code",
      "metadata": {
        "id": "mo10iAQjbPaH",
        "colab_type": "code",
        "colab": {}
      },
      "source": [
        "def mul(a,b):\n",
        "  return a * b"
      ],
      "execution_count": 0,
      "outputs": []
    },
    {
      "cell_type": "code",
      "metadata": {
        "id": "QLjLO8Azd1Xn",
        "colab_type": "code",
        "outputId": "a131e569-607d-4302-8d4a-385999be0842",
        "colab": {
          "base_uri": "https://localhost:8080/",
          "height": 34
        }
      },
      "source": [
        "mul(8,2)"
      ],
      "execution_count": 0,
      "outputs": [
        {
          "output_type": "execute_result",
          "data": {
            "text/plain": [
              "16"
            ]
          },
          "metadata": {
            "tags": []
          },
          "execution_count": 2
        }
      ]
    },
    {
      "cell_type": "code",
      "metadata": {
        "id": "KX6UzCAgd3mb",
        "colab_type": "code",
        "outputId": "b42e125c-346f-429f-941c-2d0243e4efbb",
        "colab": {
          "base_uri": "https://localhost:8080/",
          "height": 129
        }
      },
      "source": [
        "num1 = 2\n",
        "num2 = 7\n",
        "mul(num1,num2)\n",
        "print(\"La multiplicacion de\"+str(num1)+\" y \"+str(num2)+\" es: \"+ str(mul(num1,num2))"
      ],
      "execution_count": 0,
      "outputs": [
        {
          "output_type": "error",
          "ename": "SyntaxError",
          "evalue": "ignored",
          "traceback": [
            "\u001b[0;36m  File \u001b[0;32m\"<ipython-input-16-c64cc97b91be>\"\u001b[0;36m, line \u001b[0;32m4\u001b[0m\n\u001b[0;31m    print(\"La multiplicacion de\"+str(num1)+\" y \"+str(num2)+\" es: \"+ str(mul(num1,num2))\u001b[0m\n\u001b[0m                                                                                       ^\u001b[0m\n\u001b[0;31mSyntaxError\u001b[0m\u001b[0;31m:\u001b[0m unexpected EOF while parsing\n"
          ]
        }
      ]
    },
    {
      "cell_type": "markdown",
      "metadata": {
        "id": "8SdiwMrygSXO",
        "colab_type": "text"
      },
      "source": [
        "# Tarea 02\n",
        "Sacar el 7% de un producto y decir cual es precio del producto , 7% y el total"
      ]
    },
    {
      "cell_type": "code",
      "metadata": {
        "id": "SP7xZhQxgzl3",
        "colab_type": "code",
        "colab": {}
      },
      "source": [
        "def siete(a):\n",
        " return a *0.07"
      ],
      "execution_count": 0,
      "outputs": []
    },
    {
      "cell_type": "code",
      "metadata": {
        "id": "PYQn54t2hM2Y",
        "colab_type": "code",
        "outputId": "90daf106-0d63-40e7-bc31-fc4909e55e89",
        "colab": {
          "base_uri": "https://localhost:8080/",
          "height": 34
        }
      },
      "source": [
        "siete(100)"
      ],
      "execution_count": 0,
      "outputs": [
        {
          "output_type": "execute_result",
          "data": {
            "text/plain": [
              "7.000000000000001"
            ]
          },
          "metadata": {
            "tags": []
          },
          "execution_count": 5
        }
      ]
    },
    {
      "cell_type": "code",
      "metadata": {
        "id": "tzrxk7hHg82j",
        "colab_type": "code",
        "outputId": "19cca5a4-3e8d-438e-b413-84866026848a",
        "colab": {
          "base_uri": "https://localhost:8080/",
          "height": 68
        }
      },
      "source": [
        "precio = 100\n",
        "preciot= (siete(100) + precio)\n",
        "impuesto = siete(100)\n",
        "print(\"El precio de producto es: \"+str (precio))\n",
        "print(\"El impuesto sobre el mismo: %.2f\" %impuesto)\n",
        "print(\"Total a pagar: \"+str(preciot))\n"
      ],
      "execution_count": 0,
      "outputs": [
        {
          "output_type": "stream",
          "text": [
            "El precio de producto es: 100\n",
            "El impuesto sobre el mismo: 7.00\n",
            "Total a pagar: 107.0\n"
          ],
          "name": "stdout"
        }
      ]
    },
    {
      "cell_type": "markdown",
      "metadata": {
        "id": "NWayQsoto_vQ",
        "colab_type": "text"
      },
      "source": [
        "# Tarea 03"
      ]
    },
    {
      "cell_type": "markdown",
      "metadata": {
        "id": "y_prY0z5sN4g",
        "colab_type": "text"
      },
      "source": [
        ""
      ]
    },
    {
      "cell_type": "code",
      "metadata": {
        "id": "jdfv5QTAhthz",
        "colab_type": "code",
        "colab": {}
      },
      "source": [
        "jub = True\n"
      ],
      "execution_count": 0,
      "outputs": []
    },
    {
      "cell_type": "code",
      "metadata": {
        "id": "neqEcVVGpj6H",
        "colab_type": "code",
        "colab": {
          "base_uri": "https://localhost:8080/",
          "height": 85
        },
        "outputId": "801b2f4e-8146-4198-b009-1a7148e1b2f3"
      },
      "source": [
        "precio = 100\n",
        "preciot = (precio*(0.07))+precio\n",
        "print(\"Precio a pagar \"+str(precio))\n",
        "print(\"¿Usted es Jubilado?\")\n",
        "\n",
        "  \n",
        "if(jub == True):\n",
        "  print(\"Si\")\n",
        "  preciot= (preciot)-(preciot*0.30)\n",
        "  print(\"El total a pagar es: %2.f\" %preciot)\n",
        "else:\n",
        "    print(\"No\")\n",
        "    print(\"El total a pagar es: %2.f\"%preciot)\n",
        "    "
      ],
      "execution_count": 50,
      "outputs": [
        {
          "output_type": "stream",
          "text": [
            "Precio a pagar 100\n",
            "¿Usted es Jubilado?\n",
            "Si\n",
            "El total a pagar es: 75\n"
          ],
          "name": "stdout"
        }
      ]
    },
    {
      "cell_type": "code",
      "metadata": {
        "id": "c2ZZRKvQrjpD",
        "colab_type": "code",
        "colab": {}
      },
      "source": [
        ""
      ],
      "execution_count": 0,
      "outputs": []
    }
  ]
}