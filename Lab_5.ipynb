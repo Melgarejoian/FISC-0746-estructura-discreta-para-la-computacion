{
  "nbformat": 4,
  "nbformat_minor": 0,
  "metadata": {
    "colab": {
      "name": "Lab 5",
      "version": "0.3.2",
      "provenance": [],
      "include_colab_link": true
    },
    "kernelspec": {
      "name": "python3",
      "display_name": "Python 3"
    }
  },
  "cells": [
    {
      "cell_type": "markdown",
      "metadata": {
        "id": "view-in-github",
        "colab_type": "text"
      },
      "source": [
        "<a href=\"https://colab.research.google.com/github/Melgarejoian/FISC-0746-estructura-discreta-para-la-computacion/blob/master/Lab_5.ipynb\" target=\"_parent\"><img src=\"https://colab.research.google.com/assets/colab-badge.svg\" alt=\"Open In Colab\"/></a>"
      ]
    },
    {
      "cell_type": "markdown",
      "metadata": {
        "id": "QuON2H1vUPMx",
        "colab_type": "text"
      },
      "source": [
        "*Fatorial de un numero*\n"
      ]
    },
    {
      "cell_type": "markdown",
      "metadata": {
        "id": "FtTZ9qt4Z4Ji",
        "colab_type": "text"
      },
      "source": [
        "Forma Correcta\n",
        "º"
      ]
    },
    {
      "cell_type": "code",
      "metadata": {
        "id": "ZdkjDphBZ6Ip",
        "colab_type": "code",
        "colab": {}
      },
      "source": [
        "def factorial(b):\n",
        "  if b > 1:\n",
        "    \n",
        "      return b*factorial(b-1)\n",
        "  else:\n",
        "    return 1"
      ],
      "execution_count": 0,
      "outputs": []
    },
    {
      "cell_type": "code",
      "metadata": {
        "id": "YNb-hmzoaLTC",
        "colab_type": "code",
        "colab": {
          "base_uri": "https://localhost:8080/",
          "height": 34
        },
        "outputId": "7aaa0029-b012-401f-9076-b0f4ddfa0969"
      },
      "source": [
        "factorial(3)"
      ],
      "execution_count": 50,
      "outputs": [
        {
          "output_type": "execute_result",
          "data": {
            "text/plain": [
              "6"
            ]
          },
          "metadata": {
            "tags": []
          },
          "execution_count": 50
        }
      ]
    },
    {
      "cell_type": "markdown",
      "metadata": {
        "id": "8nyoq2jDbvHZ",
        "colab_type": "text"
      },
      "source": [
        ""
      ]
    },
    {
      "cell_type": "code",
      "metadata": {
        "id": "ytlT6vBzbuWR",
        "colab_type": "code",
        "colab": {
          "base_uri": "https://localhost:8080/",
          "height": 34
        },
        "outputId": "f219a58d-8045-466f-db42-5708bc9cba18"
      },
      "source": [
        "import itertools\n",
        "list (itertools.combinations(range(3),2))"
      ],
      "execution_count": 52,
      "outputs": [
        {
          "output_type": "execute_result",
          "data": {
            "text/plain": [
              "[(0, 1), (0, 2), (1, 2)]"
            ]
          },
          "metadata": {
            "tags": []
          },
          "execution_count": 52
        }
      ]
    },
    {
      "cell_type": "markdown",
      "metadata": {
        "id": "6DDD9359cohZ",
        "colab_type": "text"
      },
      "source": [
        "Combinacion con reemplazo\n"
      ]
    },
    {
      "cell_type": "code",
      "metadata": {
        "id": "0gQWbB9ocrWB",
        "colab_type": "code",
        "colab": {
          "base_uri": "https://localhost:8080/",
          "height": 34
        },
        "outputId": "d4bc0458-e032-4717-bd41-fb19f3b6cc4a"
      },
      "source": [
        "import itertools\n",
        "list (itertools.combinations_with_replacement(range(3),2))"
      ],
      "execution_count": 62,
      "outputs": [
        {
          "output_type": "execute_result",
          "data": {
            "text/plain": [
              "[(0, 0), (0, 1), (0, 2), (1, 1), (1, 2), (2, 2)]"
            ]
          },
          "metadata": {
            "tags": []
          },
          "execution_count": 62
        }
      ]
    },
    {
      "cell_type": "markdown",
      "metadata": {
        "id": "8diTYjEDd_O5",
        "colab_type": "text"
      },
      "source": [
        "Dado un numero de lemtos A, B, C, queremos extraer todas las posibles parejas de dos elementos AA, BB, CC,etc"
      ]
    },
    {
      "cell_type": "code",
      "metadata": {
        "id": "75mvTn32d8ky",
        "colab_type": "code",
        "colab": {
          "base_uri": "https://localhost:8080/",
          "height": 170
        },
        "outputId": "44a059a8-9bd5-4864-daaf-f181c7f1fc36"
      },
      "source": [
        "import itertools\n",
        "\n",
        "c=itertools.product(('A','B','C'),repeat=2)\n",
        "list(c)"
      ],
      "execution_count": 60,
      "outputs": [
        {
          "output_type": "execute_result",
          "data": {
            "text/plain": [
              "[('A', 'A'),\n",
              " ('A', 'B'),\n",
              " ('A', 'C'),\n",
              " ('B', 'A'),\n",
              " ('B', 'B'),\n",
              " ('B', 'C'),\n",
              " ('C', 'A'),\n",
              " ('C', 'B'),\n",
              " ('C', 'C')]"
            ]
          },
          "metadata": {
            "tags": []
          },
          "execution_count": 60
        }
      ]
    },
    {
      "cell_type": "markdown",
      "metadata": {
        "id": "WdgmYuUafA4Z",
        "colab_type": "text"
      },
      "source": [
        "Permutaciones"
      ]
    },
    {
      "cell_type": "code",
      "metadata": {
        "id": "pDCI3euseqGB",
        "colab_type": "code",
        "colab": {
          "base_uri": "https://localhost:8080/",
          "height": 34
        },
        "outputId": "2c27c5c9-89c0-499a-8241-c023a8113336"
      },
      "source": [
        "c=itertools.permutations(('A','B','C'),2)\n",
        "list(c)"
      ],
      "execution_count": 66,
      "outputs": [
        {
          "output_type": "execute_result",
          "data": {
            "text/plain": [
              "[('A', 'B'), ('A', 'C'), ('B', 'A'), ('B', 'C'), ('C', 'A'), ('C', 'B')]"
            ]
          },
          "metadata": {
            "tags": []
          },
          "execution_count": 66
        }
      ]
    },
    {
      "cell_type": "markdown",
      "metadata": {
        "id": "r4yDZ4eJfZ4J",
        "colab_type": "text"
      },
      "source": [
        "Combinaciones"
      ]
    },
    {
      "cell_type": "code",
      "metadata": {
        "id": "Xgl7xgdgfZUy",
        "colab_type": "code",
        "colab": {
          "base_uri": "https://localhost:8080/",
          "height": 34
        },
        "outputId": "343533dd-8256-4662-e04c-12324a0e2889"
      },
      "source": [
        "c=itertools.combinations(('A','B','C'),2)\n",
        "list(c)"
      ],
      "execution_count": 67,
      "outputs": [
        {
          "output_type": "execute_result",
          "data": {
            "text/plain": [
              "[('A', 'B'), ('A', 'C'), ('B', 'C')]"
            ]
          },
          "metadata": {
            "tags": []
          },
          "execution_count": 67
        }
      ]
    },
    {
      "cell_type": "code",
      "metadata": {
        "id": "SvkITLn3fUYB",
        "colab_type": "code",
        "colab": {}
      },
      "source": [
        ""
      ],
      "execution_count": 0,
      "outputs": []
    },
    {
      "cell_type": "markdown",
      "metadata": {
        "id": "UsWD-glWfz1K",
        "colab_type": "text"
      },
      "source": [
        "# **Tarea 02: Octavos de Final de la champions league 2019**\n",
        "\n",
        "¿Cuales son los posibles combinaciones de partidos? \n",
        "¿Cuantas combinaciones?\n",
        "\n",
        "Equipos finalista: Porto, Roma, Manchester City, Shalke04, Bayer, Liverpool, Mancheter United, Junventus, PSG, Atletico de Madrid, Barcelona, Lyon"
      ]
    },
    {
      "cell_type": "code",
      "metadata": {
        "id": "yws3U0PLhWQZ",
        "colab_type": "code",
        "colab": {}
      },
      "source": [
        "b=1"
      ],
      "execution_count": 0,
      "outputs": []
    },
    {
      "cell_type": "code",
      "metadata": {
        "id": "G-vF0w4bgcfo",
        "colab_type": "code",
        "colab": {
          "base_uri": "https://localhost:8080/",
          "height": 1139
        },
        "outputId": "610f74ba-d265-48a1-a081-f34fe4ee5429"
      },
      "source": [
        "b\n",
        "c=itertools.combinations(('Porto','Roma','Manchester City','Shalke04','Bayer','Liverpool','Mancheter United','Junventus','PSG','Atletico de Madrid','Barcelona','Lyon'),2)\n",
        "list(c)\n"
      ],
      "execution_count": 79,
      "outputs": [
        {
          "output_type": "execute_result",
          "data": {
            "text/plain": [
              "[('Porto', 'Roma'),\n",
              " ('Porto', 'Manchester City'),\n",
              " ('Porto', 'Shalke04'),\n",
              " ('Porto', 'Bayer'),\n",
              " ('Porto', 'Liverpool'),\n",
              " ('Porto', 'Mancheter United'),\n",
              " ('Porto', 'Junventus'),\n",
              " ('Porto', 'PSG'),\n",
              " ('Porto', 'Atletico de Madrid'),\n",
              " ('Porto', 'Barcelona'),\n",
              " ('Porto', 'Lyon'),\n",
              " ('Roma', 'Manchester City'),\n",
              " ('Roma', 'Shalke04'),\n",
              " ('Roma', 'Bayer'),\n",
              " ('Roma', 'Liverpool'),\n",
              " ('Roma', 'Mancheter United'),\n",
              " ('Roma', 'Junventus'),\n",
              " ('Roma', 'PSG'),\n",
              " ('Roma', 'Atletico de Madrid'),\n",
              " ('Roma', 'Barcelona'),\n",
              " ('Roma', 'Lyon'),\n",
              " ('Manchester City', 'Shalke04'),\n",
              " ('Manchester City', 'Bayer'),\n",
              " ('Manchester City', 'Liverpool'),\n",
              " ('Manchester City', 'Mancheter United'),\n",
              " ('Manchester City', 'Junventus'),\n",
              " ('Manchester City', 'PSG'),\n",
              " ('Manchester City', 'Atletico de Madrid'),\n",
              " ('Manchester City', 'Barcelona'),\n",
              " ('Manchester City', 'Lyon'),\n",
              " ('Shalke04', 'Bayer'),\n",
              " ('Shalke04', 'Liverpool'),\n",
              " ('Shalke04', 'Mancheter United'),\n",
              " ('Shalke04', 'Junventus'),\n",
              " ('Shalke04', 'PSG'),\n",
              " ('Shalke04', 'Atletico de Madrid'),\n",
              " ('Shalke04', 'Barcelona'),\n",
              " ('Shalke04', 'Lyon'),\n",
              " ('Bayer', 'Liverpool'),\n",
              " ('Bayer', 'Mancheter United'),\n",
              " ('Bayer', 'Junventus'),\n",
              " ('Bayer', 'PSG'),\n",
              " ('Bayer', 'Atletico de Madrid'),\n",
              " ('Bayer', 'Barcelona'),\n",
              " ('Bayer', 'Lyon'),\n",
              " ('Liverpool', 'Mancheter United'),\n",
              " ('Liverpool', 'Junventus'),\n",
              " ('Liverpool', 'PSG'),\n",
              " ('Liverpool', 'Atletico de Madrid'),\n",
              " ('Liverpool', 'Barcelona'),\n",
              " ('Liverpool', 'Lyon'),\n",
              " ('Mancheter United', 'Junventus'),\n",
              " ('Mancheter United', 'PSG'),\n",
              " ('Mancheter United', 'Atletico de Madrid'),\n",
              " ('Mancheter United', 'Barcelona'),\n",
              " ('Mancheter United', 'Lyon'),\n",
              " ('Junventus', 'PSG'),\n",
              " ('Junventus', 'Atletico de Madrid'),\n",
              " ('Junventus', 'Barcelona'),\n",
              " ('Junventus', 'Lyon'),\n",
              " ('PSG', 'Atletico de Madrid'),\n",
              " ('PSG', 'Barcelona'),\n",
              " ('PSG', 'Lyon'),\n",
              " ('Atletico de Madrid', 'Barcelona'),\n",
              " ('Atletico de Madrid', 'Lyon'),\n",
              " ('Barcelona', 'Lyon')]"
            ]
          },
          "metadata": {
            "tags": []
          },
          "execution_count": 79
        }
      ]
    },
    {
      "cell_type": "code",
      "metadata": {
        "id": "P8jShpCihi4B",
        "colab_type": "code",
        "colab": {
          "base_uri": "https://localhost:8080/",
          "height": 34
        },
        "outputId": "6958fc92-cbe7-4599-9ce6-a1d883085527"
      },
      "source": [
        "len(list(itertools.combinations(('Porto','Roma','Manchester City','Shalke04','Bayer','Liverpool','Mancheter United','Junventus','PSG','Atletico de Madrid','Barcelona','Lyon'),2)))"
      ],
      "execution_count": 84,
      "outputs": [
        {
          "output_type": "execute_result",
          "data": {
            "text/plain": [
              "66"
            ]
          },
          "metadata": {
            "tags": []
          },
          "execution_count": 84
        }
      ]
    }
  ]
}