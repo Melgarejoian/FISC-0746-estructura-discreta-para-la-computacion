{
  "nbformat": 4,
  "nbformat_minor": 0,
  "metadata": {
    "colab": {
      "name": "Lab 4",
      "version": "0.3.2",
      "provenance": [],
      "include_colab_link": true
    },
    "kernelspec": {
      "name": "python3",
      "display_name": "Python 3"
    }
  },
  "cells": [
    {
      "cell_type": "markdown",
      "metadata": {
        "id": "view-in-github",
        "colab_type": "text"
      },
      "source": [
        "<a href=\"https://colab.research.google.com/github/Melgarejoian/FISC-0746-estructura-discreta-para-la-computacion/blob/master/Lab_4.ipynb\" target=\"_parent\"><img src=\"https://colab.research.google.com/assets/colab-badge.svg\" alt=\"Open In Colab\"/></a>"
      ]
    },
    {
      "metadata": {
        "id": "UafqjwKgQRT3",
        "colab_type": "text"
      },
      "cell_type": "markdown",
      "source": [
        "**Creacion de una lista**"
      ]
    },
    {
      "metadata": {
        "id": "yD8uZ-yg6D50",
        "colab_type": "code",
        "colab": {}
      },
      "cell_type": "code",
      "source": [
        "a = 0\n",
        "b = 1\n",
        "i = 0"
      ],
      "execution_count": 0,
      "outputs": []
    },
    {
      "metadata": {
        "id": "qwTQdWE96IR7",
        "colab_type": "code",
        "colab": {}
      },
      "cell_type": "code",
      "source": [
        "for i in range(3):\n",
        "  a +=b"
      ],
      "execution_count": 0,
      "outputs": []
    },
    {
      "metadata": {
        "id": "Wy3tnAeK6bqZ",
        "colab_type": "code",
        "outputId": "9f4a96d7-8a1a-4282-fe45-61866357d8ed",
        "colab": {
          "base_uri": "https://localhost:8080/",
          "height": 34
        }
      },
      "cell_type": "code",
      "source": [
        "a"
      ],
      "execution_count": 0,
      "outputs": [
        {
          "output_type": "execute_result",
          "data": {
            "text/plain": [
              "3"
            ]
          },
          "metadata": {
            "tags": []
          },
          "execution_count": 9
        }
      ]
    },
    {
      "metadata": {
        "id": "VYWkr-J56Gy8",
        "colab_type": "text"
      },
      "cell_type": "markdown",
      "source": [
        "sdasd"
      ]
    },
    {
      "metadata": {
        "id": "0HlCu-D0PrmN",
        "colab_type": "code",
        "colab": {}
      },
      "cell_type": "code",
      "source": [
        "c = [-14,2,15,98,13,3]"
      ],
      "execution_count": 0,
      "outputs": []
    },
    {
      "metadata": {
        "id": "hHsBkyipP_c_",
        "colab_type": "code",
        "outputId": "95d2fefe-4ccd-4236-b1a8-5f71ba17972a",
        "colab": {
          "base_uri": "https://localhost:8080/",
          "height": 34
        }
      },
      "cell_type": "code",
      "source": [
        "c[0]"
      ],
      "execution_count": 0,
      "outputs": [
        {
          "output_type": "execute_result",
          "data": {
            "text/plain": [
              "-14"
            ]
          },
          "metadata": {
            "tags": []
          },
          "execution_count": 8
        }
      ]
    },
    {
      "metadata": {
        "id": "eS5PoGr7QD2-",
        "colab_type": "text"
      },
      "cell_type": "markdown",
      "source": [
        "**Determinar la catidad de elemtos que tiene la lista**\n"
      ]
    },
    {
      "metadata": {
        "id": "oHKzQyjTQH-g",
        "colab_type": "code",
        "outputId": "69833f3c-869a-4a80-d1f2-ad9f61c4d8cd",
        "colab": {
          "base_uri": "https://localhost:8080/",
          "height": 34
        }
      },
      "cell_type": "code",
      "source": [
        "len(c)"
      ],
      "execution_count": 0,
      "outputs": [
        {
          "output_type": "execute_result",
          "data": {
            "text/plain": [
              "6"
            ]
          },
          "metadata": {
            "tags": []
          },
          "execution_count": 7
        }
      ]
    },
    {
      "metadata": {
        "id": "dLuL52-pQM8_",
        "colab_type": "code",
        "outputId": "2d825aea-477f-46d3-aeef-ebafed416b16",
        "colab": {
          "base_uri": "https://localhost:8080/",
          "height": 34
        }
      },
      "cell_type": "code",
      "source": [
        "c\n",
        "\n",
        "\n"
      ],
      "execution_count": 0,
      "outputs": [
        {
          "output_type": "execute_result",
          "data": {
            "text/plain": [
              "[-14, 2, 15, 98, 13, 3]"
            ]
          },
          "metadata": {
            "tags": []
          },
          "execution_count": 9
        }
      ]
    },
    {
      "metadata": {
        "id": "2RGMEKH4Qnn3",
        "colab_type": "text"
      },
      "cell_type": "markdown",
      "source": [
        "**Determinar el tipo de conjunto**\n"
      ]
    },
    {
      "metadata": {
        "id": "DRy7kHdwRCnI",
        "colab_type": "code",
        "outputId": "db193b41-2efd-47fa-b72e-b28fbdd9ecaa",
        "colab": {
          "base_uri": "https://localhost:8080/",
          "height": 34
        }
      },
      "cell_type": "code",
      "source": [
        "type(c)"
      ],
      "execution_count": 0,
      "outputs": [
        {
          "output_type": "execute_result",
          "data": {
            "text/plain": [
              "list"
            ]
          },
          "metadata": {
            "tags": []
          },
          "execution_count": 10
        }
      ]
    },
    {
      "metadata": {
        "id": "Xlnj6EgYRGW3",
        "colab_type": "text"
      },
      "cell_type": "markdown",
      "source": [
        "**Tambien se puede usar -n en el indice**"
      ]
    },
    {
      "metadata": {
        "id": "PMMC5i-cRX7m",
        "colab_type": "code",
        "outputId": "076cfbc0-c3ac-4c7e-f0f6-843b6349ccf2",
        "colab": {
          "base_uri": "https://localhost:8080/",
          "height": 34
        }
      },
      "cell_type": "code",
      "source": [
        "c[-6]"
      ],
      "execution_count": 0,
      "outputs": [
        {
          "output_type": "execute_result",
          "data": {
            "text/plain": [
              "-14"
            ]
          },
          "metadata": {
            "tags": []
          },
          "execution_count": 11
        }
      ]
    },
    {
      "metadata": {
        "id": "BLGYXydlR0b4",
        "colab_type": "text"
      },
      "cell_type": "markdown",
      "source": [
        "**Indice**"
      ]
    },
    {
      "metadata": {
        "id": "zCT-qNDwR5No",
        "colab_type": "code",
        "colab": {}
      },
      "cell_type": "code",
      "source": [
        "a=2"
      ],
      "execution_count": 0,
      "outputs": []
    },
    {
      "metadata": {
        "id": "yGGPd4yKR9Oh",
        "colab_type": "code",
        "colab": {}
      },
      "cell_type": "code",
      "source": [
        "b=1"
      ],
      "execution_count": 0,
      "outputs": []
    },
    {
      "metadata": {
        "id": "dWPb4PvUR_RR",
        "colab_type": "code",
        "outputId": "680db48a-4815-4ccf-bba9-c7b99ec9e2dc",
        "colab": {
          "base_uri": "https://localhost:8080/",
          "height": 34
        }
      },
      "cell_type": "code",
      "source": [
        "c[a+b]"
      ],
      "execution_count": 0,
      "outputs": [
        {
          "output_type": "execute_result",
          "data": {
            "text/plain": [
              "98"
            ]
          },
          "metadata": {
            "tags": []
          },
          "execution_count": 14
        }
      ]
    },
    {
      "metadata": {
        "id": "R-OTbLcESiBW",
        "colab_type": "text"
      },
      "cell_type": "markdown",
      "source": [
        "**Otra Función de las lista**\n",
        "\n"
      ]
    },
    {
      "metadata": {
        "id": "8n0nJG6DSv2-",
        "colab_type": "code",
        "colab": {}
      },
      "cell_type": "code",
      "source": [
        "Notas = [85,65,95,82,100]"
      ],
      "execution_count": 0,
      "outputs": []
    },
    {
      "metadata": {
        "id": "ajPpP7woS24_",
        "colab_type": "text"
      },
      "cell_type": "markdown",
      "source": [
        "Suma"
      ]
    },
    {
      "metadata": {
        "id": "8xsiXG9SS3_O",
        "colab_type": "code",
        "outputId": "87343a29-b0f5-4448-9c7e-249119dca95d",
        "colab": {
          "base_uri": "https://localhost:8080/",
          "height": 34
        }
      },
      "cell_type": "code",
      "source": [
        "sum (Notas)"
      ],
      "execution_count": 0,
      "outputs": [
        {
          "output_type": "execute_result",
          "data": {
            "text/plain": [
              "427"
            ]
          },
          "metadata": {
            "tags": []
          },
          "execution_count": 19
        }
      ]
    },
    {
      "metadata": {
        "id": "9y4rGWt4TIOX",
        "colab_type": "text"
      },
      "cell_type": "markdown",
      "source": [
        "Longitud"
      ]
    },
    {
      "metadata": {
        "id": "bapARYLjS5nx",
        "colab_type": "code",
        "outputId": "2f5128ef-93d1-4839-8104-99a46c6bd9fb",
        "colab": {
          "base_uri": "https://localhost:8080/",
          "height": 34
        }
      },
      "cell_type": "code",
      "source": [
        "len(Notas)"
      ],
      "execution_count": 0,
      "outputs": [
        {
          "output_type": "execute_result",
          "data": {
            "text/plain": [
              "5"
            ]
          },
          "metadata": {
            "tags": []
          },
          "execution_count": 20
        }
      ]
    },
    {
      "metadata": {
        "id": "QmsvwnWhTOuf",
        "colab_type": "text"
      },
      "cell_type": "markdown",
      "source": [
        "Promedio"
      ]
    },
    {
      "metadata": {
        "id": "QL2LQgZjTODx",
        "colab_type": "code",
        "colab": {}
      },
      "cell_type": "code",
      "source": [
        "avg = sum(Notas) / len(Notas)"
      ],
      "execution_count": 0,
      "outputs": []
    },
    {
      "metadata": {
        "id": "TamyA_2GTabh",
        "colab_type": "code",
        "outputId": "20f61c40-52da-460e-c812-f1ef987d033c",
        "colab": {
          "base_uri": "https://localhost:8080/",
          "height": 34
        }
      },
      "cell_type": "code",
      "source": [
        "avg"
      ],
      "execution_count": 0,
      "outputs": [
        {
          "output_type": "execute_result",
          "data": {
            "text/plain": [
              "85.4"
            ]
          },
          "metadata": {
            "tags": []
          },
          "execution_count": 22
        }
      ]
    },
    {
      "metadata": {
        "id": "ig-eGgDUT0Hf",
        "colab_type": "text"
      },
      "cell_type": "markdown",
      "source": [
        "**Asignacion**\n",
        "\n"
      ]
    },
    {
      "metadata": {
        "id": "ojaCihTaUHrm",
        "colab_type": "text"
      },
      "cell_type": "markdown",
      "source": [
        "Impresion con for"
      ]
    },
    {
      "metadata": {
        "id": "869of2moWYpX",
        "colab_type": "code",
        "outputId": "ba5b01c0-240b-4d98-c17a-c99ea77a5561",
        "colab": {
          "base_uri": "https://localhost:8080/",
          "height": 102
        }
      },
      "cell_type": "code",
      "source": [
        "i=0\n",
        "for i in Notas:\n",
        "   print(i)"
      ],
      "execution_count": 0,
      "outputs": [
        {
          "output_type": "stream",
          "text": [
            "85\n",
            "65\n",
            "95\n",
            "82\n",
            "100\n"
          ],
          "name": "stdout"
        }
      ]
    },
    {
      "metadata": {
        "id": "Z3hzPa68XRGe",
        "colab_type": "text"
      },
      "cell_type": "markdown",
      "source": [
        "Suma de lista con for"
      ]
    },
    {
      "metadata": {
        "id": "r_9nWSLjWZQB",
        "colab_type": "code",
        "outputId": "4e113108-0f8a-46c4-d253-623cd4d505b0",
        "colab": {
          "base_uri": "https://localhost:8080/",
          "height": 34
        }
      },
      "cell_type": "code",
      "source": [
        "suma = 0\n",
        "i= 0\n",
        "for i in Notas:\n",
        "    suma +=i\n",
        "print(suma)\n",
        "  "
      ],
      "execution_count": 0,
      "outputs": [
        {
          "output_type": "stream",
          "text": [
            "427\n"
          ],
          "name": "stdout"
        }
      ]
    },
    {
      "metadata": {
        "id": "bfYFLIoRZWy3",
        "colab_type": "text"
      },
      "cell_type": "markdown",
      "source": [
        "Divison "
      ]
    },
    {
      "metadata": {
        "id": "57_qmz0NXqDh",
        "colab_type": "code",
        "outputId": "d84d8c9e-7285-45e6-f919-e83c20d6ad2d",
        "colab": {
          "base_uri": "https://localhost:8080/",
          "height": 34
        }
      },
      "cell_type": "code",
      "source": [
        "suma = 0\n",
        "div = 0\n",
        "i= 0\n",
        "for i in Notas:\n",
        "    suma +=i\n",
        "div = sum(Notas) / len(Notas)\n",
        "print(div)   "
      ],
      "execution_count": 0,
      "outputs": [
        {
          "output_type": "stream",
          "text": [
            "85.4\n"
          ],
          "name": "stdout"
        }
      ]
    },
    {
      "metadata": {
        "id": "2UbUQ7VLZzP3",
        "colab_type": "text"
      },
      "cell_type": "markdown",
      "source": [
        "**Cambio de Elementos de lista**"
      ]
    },
    {
      "metadata": {
        "id": "U6Ef3lfuZ9pw",
        "colab_type": "code",
        "outputId": "bc79de07-cb30-4a53-841e-b66465c76544",
        "colab": {
          "base_uri": "https://localhost:8080/",
          "height": 34
        }
      },
      "cell_type": "code",
      "source": [
        "Notas"
      ],
      "execution_count": 0,
      "outputs": [
        {
          "output_type": "execute_result",
          "data": {
            "text/plain": [
              "[85, 65, 95, 82, 100]"
            ]
          },
          "metadata": {
            "tags": []
          },
          "execution_count": 19
        }
      ]
    },
    {
      "metadata": {
        "id": "GWaR7wrkZ_AR",
        "colab_type": "code",
        "colab": {}
      },
      "cell_type": "code",
      "source": [
        "Notas[2] = -45"
      ],
      "execution_count": 0,
      "outputs": []
    },
    {
      "metadata": {
        "id": "TH9o7bscaDzB",
        "colab_type": "code",
        "outputId": "dd496ef7-7f11-405a-c9fc-e3d3ff45268b",
        "colab": {
          "base_uri": "https://localhost:8080/",
          "height": 34
        }
      },
      "cell_type": "code",
      "source": [
        "Notas"
      ],
      "execution_count": 0,
      "outputs": [
        {
          "output_type": "execute_result",
          "data": {
            "text/plain": [
              "[85, 65, -45, 82, 100]"
            ]
          },
          "metadata": {
            "tags": []
          },
          "execution_count": 23
        }
      ]
    },
    {
      "metadata": {
        "id": "t1GF-KhiaSI_",
        "colab_type": "text"
      },
      "cell_type": "markdown",
      "source": [
        "**Lista con palabras**\n"
      ]
    },
    {
      "metadata": {
        "id": "llxvFbzRaWtR",
        "colab_type": "code",
        "colab": {}
      },
      "cell_type": "code",
      "source": [
        "s = 'hellow'"
      ],
      "execution_count": 0,
      "outputs": []
    },
    {
      "metadata": {
        "id": "S2vc-nF3adxR",
        "colab_type": "code",
        "outputId": "43a93f4d-789f-49aa-e21c-85164c230bc0",
        "colab": {
          "base_uri": "https://localhost:8080/",
          "height": 34
        }
      },
      "cell_type": "code",
      "source": [
        "s[0]"
      ],
      "execution_count": 0,
      "outputs": [
        {
          "output_type": "execute_result",
          "data": {
            "text/plain": [
              "'h'"
            ]
          },
          "metadata": {
            "tags": []
          },
          "execution_count": 27
        }
      ]
    },
    {
      "metadata": {
        "id": "pzjOFxNUaqaJ",
        "colab_type": "text"
      },
      "cell_type": "markdown",
      "source": [
        "**Suma de elemetos especificos de una lista**"
      ]
    },
    {
      "metadata": {
        "id": "H3WvPc0KaoAx",
        "colab_type": "code",
        "outputId": "b885a681-6344-4fb0-b9b9-119ea5f25d8a",
        "colab": {
          "base_uri": "https://localhost:8080/",
          "height": 34
        }
      },
      "cell_type": "code",
      "source": [
        "Notas[1] + Notas[2] + Notas[3]"
      ],
      "execution_count": 0,
      "outputs": [
        {
          "output_type": "execute_result",
          "data": {
            "text/plain": [
              "102"
            ]
          },
          "metadata": {
            "tags": []
          },
          "execution_count": 28
        }
      ]
    },
    {
      "metadata": {
        "id": "8rtaZISIa9mw",
        "colab_type": "text"
      },
      "cell_type": "markdown",
      "source": [
        "**Agregar elemos a lista**"
      ]
    },
    {
      "metadata": {
        "id": "TsJXgl_ua0Yj",
        "colab_type": "code",
        "colab": {}
      },
      "cell_type": "code",
      "source": [
        "lista = []"
      ],
      "execution_count": 0,
      "outputs": []
    },
    {
      "metadata": {
        "id": "Vm_uZYDEbDfR",
        "colab_type": "code",
        "colab": {}
      },
      "cell_type": "code",
      "source": [
        "for number in range (1, 6):\n",
        "    lista +=[number]"
      ],
      "execution_count": 0,
      "outputs": []
    },
    {
      "metadata": {
        "id": "ownLHol_bN8B",
        "colab_type": "code",
        "outputId": "e1740194-157a-41e2-b636-0adaea09e300",
        "colab": {
          "base_uri": "https://localhost:8080/",
          "height": 34
        }
      },
      "cell_type": "code",
      "source": [
        "lista"
      ],
      "execution_count": 0,
      "outputs": [
        {
          "output_type": "execute_result",
          "data": {
            "text/plain": [
              "[1, 2, 3, 4, 5]"
            ]
          },
          "metadata": {
            "tags": []
          },
          "execution_count": 32
        }
      ]
    },
    {
      "metadata": {
        "id": "Bn8Ezgy_cW1A",
        "colab_type": "text"
      },
      "cell_type": "markdown",
      "source": [
        "**Asigacion Final**"
      ]
    },
    {
      "metadata": {
        "id": "i-iduMuEcWPf",
        "colab_type": "code",
        "colab": {}
      },
      "cell_type": "code",
      "source": [
        "\n",
        "aplantas = set([161,182,161,154,176,170,167,171,170,174])"
      ],
      "execution_count": 0,
      "outputs": []
    },
    {
      "metadata": {
        "id": "ha37gbLOc74g",
        "colab_type": "code",
        "outputId": "55d4ac40-2dad-4ee8-9e78-6b2d10269653",
        "colab": {
          "base_uri": "https://localhost:8080/",
          "height": 34
        }
      },
      "cell_type": "code",
      "source": [
        "print(aplantas)"
      ],
      "execution_count": 0,
      "outputs": [
        {
          "output_type": "stream",
          "text": [
            "[161, 182, 161, 154, 176, 170, 167, 171, 170, 174]\n"
          ],
          "name": "stdout"
        }
      ]
    },
    {
      "metadata": {
        "id": "xWSs8YUD85bm",
        "colab_type": "code",
        "outputId": "d656fc57-bf70-4418-df2f-d22a65bedbd2",
        "colab": {
          "base_uri": "https://localhost:8080/",
          "height": 34
        }
      },
      "cell_type": "code",
      "source": [
        "len(aplantas)"
      ],
      "execution_count": 0,
      "outputs": [
        {
          "output_type": "execute_result",
          "data": {
            "text/plain": [
              "10"
            ]
          },
          "metadata": {
            "tags": []
          },
          "execution_count": 4
        }
      ]
    },
    {
      "metadata": {
        "id": "dQFWVr52fAtR",
        "colab_type": "code",
        "colab": {}
      },
      "cell_type": "code",
      "source": [
        "a= sum(aplantas) / len(aplantas)  "
      ],
      "execution_count": 0,
      "outputs": []
    },
    {
      "metadata": {
        "id": "zUctgYU6hpvv",
        "colab_type": "code",
        "outputId": "6935c4df-b8b9-4e12-d642-6749d6ccadfb",
        "colab": {
          "base_uri": "https://localhost:8080/",
          "height": 34
        }
      },
      "cell_type": "code",
      "source": [
        "print(a)\n"
      ],
      "execution_count": 3,
      "outputs": [
        {
          "output_type": "stream",
          "text": [
            "169.375\n"
          ],
          "name": "stdout"
        }
      ]
    },
    {
      "metadata": {
        "id": "94prrNh0h0JP",
        "colab_type": "text"
      },
      "cell_type": "markdown",
      "source": [
        "altura no repetidas / numero de no repetidas"
      ]
    }
  ]
}